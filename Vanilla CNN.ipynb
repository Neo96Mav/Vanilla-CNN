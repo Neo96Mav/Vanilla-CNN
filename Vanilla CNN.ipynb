{
 "cells": [
  {
   "cell_type": "markdown",
   "metadata": {},
   "source": [
    "# Vanilla CNN \n",
    "## Author : Avineil Jain \n",
    "This is a notebook that illustrates a simple CNN with the MNIST dataset. I am using Keras along with the Tensorflow backend. Several Concepts such as Batch Normalization, Dropout have also been used, though in such a small model, it would not create a big difference"
   ]
  },
  {
   "cell_type": "code",
   "execution_count": 54,
   "metadata": {},
   "outputs": [
    {
     "name": "stdout",
     "output_type": "stream",
     "text": [
      "Extracting MNIST_data/train-images-idx3-ubyte.gz\n",
      "Extracting MNIST_data/train-labels-idx1-ubyte.gz\n",
      "Extracting MNIST_data/t10k-images-idx3-ubyte.gz\n",
      "Extracting MNIST_data/t10k-labels-idx1-ubyte.gz\n"
     ]
    }
   ],
   "source": [
    "import tensorflow as tf\n",
    "from keras.layers import Input, Dense, Conv2D, MaxPooling2D, Flatten, BatchNormalization, Dropout, Activation\n",
    "from keras.models import Model\n",
    "import matplotlib.pyplot as plt\n",
    "\n",
    "from tensorflow.examples.tutorials.mnist import input_data\n",
    "mnist = input_data.read_data_sets('MNIST_data', one_hot=True)"
   ]
  },
  {
   "cell_type": "code",
   "execution_count": 55,
   "metadata": {
    "collapsed": true
   },
   "outputs": [],
   "source": [
    "def CNN():\n",
    "    inputs = Input(shape=(28,28,1))\n",
    "    #Layer 1\n",
    "    X = Conv2D(32,(5,5),padding='same',name=\"Conv1\")(inputs)\n",
    "    X = BatchNormalization()(X)\n",
    "    X = Activation('relu')(X)\n",
    "    X = MaxPooling2D(name=\"Max1\")(X)\n",
    "\n",
    "    #Layer 2\n",
    "    X = Conv2D(64,(3,3),padding='same', name=\"Conv2\")(X)\n",
    "    X = BatchNormalization()(X)\n",
    "    X = Activation('relu')(X)\n",
    "    X = MaxPooling2D(name=\"Max2\")(X)\n",
    "\n",
    "    #Layer 3\n",
    "    X = Flatten()(X)\n",
    "    X = Dropout(0.1)(X)\n",
    "    pred_y = Dense(10,activation='softmax',name=\"Dense1\")(X)\n",
    "    model = Model(inputs = inputs,outputs = pred_y)\n",
    "\n",
    "    return model"
   ]
  },
  {
   "cell_type": "code",
   "execution_count": 56,
   "metadata": {
    "collapsed": true
   },
   "outputs": [],
   "source": [
    "mnist_model = CNN()\n",
    "mnist_model.compile(optimizer='Adam',loss = 'categorical_crossentropy',metrics=['accuracy'])"
   ]
  },
  {
   "cell_type": "code",
   "execution_count": 57,
   "metadata": {
    "collapsed": true
   },
   "outputs": [],
   "source": [
    "train = mnist.train.images\n",
    "train_reshape = train.reshape(-1,28,28,1) #Reshaping the input to fit the Conv2D filter\n",
    "labels = mnist.train.labels"
   ]
  },
  {
   "cell_type": "code",
   "execution_count": 58,
   "metadata": {
    "scrolled": true
   },
   "outputs": [
    {
     "name": "stdout",
     "output_type": "stream",
     "text": [
      "Epoch 1/5\n",
      "55000/55000 [==============================] - 152s 3ms/step - loss: 0.1900 - acc: 0.9420\n",
      "Epoch 2/5\n",
      "55000/55000 [==============================] - 152s 3ms/step - loss: 0.0610 - acc: 0.9817\n",
      "Epoch 3/5\n",
      "55000/55000 [==============================] - 156s 3ms/step - loss: 0.0475 - acc: 0.9852\n",
      "Epoch 4/5\n",
      "55000/55000 [==============================] - 155s 3ms/step - loss: 0.0383 - acc: 0.9877\n",
      "Epoch 5/5\n",
      "55000/55000 [==============================] - 153s 3ms/step - loss: 0.0339 - acc: 0.9891\n"
     ]
    },
    {
     "data": {
      "text/plain": [
       "<keras.callbacks.History at 0x7f58bac0c710>"
      ]
     },
     "execution_count": 58,
     "metadata": {},
     "output_type": "execute_result"
    }
   ],
   "source": [
    "num_epochs = 5\n",
    "mnist_model.fit(x=train_reshape,y=labels,batch_size=128,epochs = num_epochs)"
   ]
  },
  {
   "cell_type": "code",
   "execution_count": 59,
   "metadata": {},
   "outputs": [],
   "source": [
    "test = mnist.test.images.reshape(-1,28,28,1) #Reshaping the test Images\n",
    "test_labels = mnist.test.labels"
   ]
  },
  {
   "cell_type": "code",
   "execution_count": 60,
   "metadata": {},
   "outputs": [
    {
     "name": "stdout",
     "output_type": "stream",
     "text": [
      "10000/10000 [==============================] - 11s 1ms/step\n"
     ]
    }
   ],
   "source": [
    "eval = mnist_model.evaluate(x=test,y=test_labels)"
   ]
  },
  {
   "cell_type": "code",
   "execution_count": 62,
   "metadata": {},
   "outputs": [
    {
     "name": "stdout",
     "output_type": "stream",
     "text": [
      "Final Test Accuracy:  0.9885\n"
     ]
    }
   ],
   "source": [
    "print(\"Final Test Accuracy: \", eval[1])"
   ]
  },
  {
   "cell_type": "markdown",
   "metadata": {},
   "source": [
    "We see an excellent test accuracy just after 5 epochs. We can train for some more epochs and see the test accuracy rise above 99%. A good thing about the keras models is running the fit functions resumes from the already trained weights! "
   ]
  },
  {
   "cell_type": "code",
   "execution_count": 63,
   "metadata": {
    "collapsed": true
   },
   "outputs": [],
   "source": [
    "%matplotlib inline\n",
    "import matplotlib.pyplot as plt\n",
    "import numpy as np\n",
    "import random "
   ]
  },
  {
   "cell_type": "markdown",
   "metadata": {},
   "source": [
    "# Visualizing Predictions\n",
    "Let us now take a test image and see the model predict on it"
   ]
  },
  {
   "cell_type": "code",
   "execution_count": 69,
   "metadata": {},
   "outputs": [
    {
     "name": "stdout",
     "output_type": "stream",
     "text": [
      "CNN predicts :  1\n"
     ]
    },
    {
     "data": {
      "image/png": "[encoded data removed]",
      "text/plain": [
       "<matplotlib.figure.Figure at 0x7f58b8df92e8>"
      ]
     },
     "metadata": {},
     "output_type": "display_data"
    }
   ],
   "source": [
    "index = random.randint(1,10000)\n",
    "image1 = test[index].reshape(28,28)\n",
    "plt.imshow(image1,cmap='gray')\n",
    "pred = mnist_model.predict(test[index].reshape(-1,28,28,1))\n",
    "print(\"CNN predicts : \", np.argmax(pred))"
   ]
  }
 ],
 "metadata": {
  "kernelspec": {
   "display_name": "Python 3",
   "language": "python",
   "name": "python3"
  },
  "language_info": {
   "codemirror_mode": {
    "name": "ipython",
    "version": 3
   },
   "file_extension": ".py",
   "mimetype": "text/x-python",
   "name": "python",
   "nbconvert_exporter": "python",
   "pygments_lexer": "ipython3",
   "version": "3.5.2"
  }
 },
 "nbformat": 4,
 "nbformat_minor": 2
}
